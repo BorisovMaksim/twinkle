{
 "cells": [
  {
   "cell_type": "markdown",
   "metadata": {},
   "source": [
    "# Линейная алгебра. Тензор (10 баллов)\n",
    "\n",
    "В этой домашней работе мы продолжим работу над нашей библиотекой машинного обучения, дизайн которой мы заимствуем у библиотеки **PyTorch**. Необходимо будет дописать функционал тензора, относящийся к многомерным тензорам: добавить *решейп*, транспонирование, расширить индексирование и реализовать матричное умножение, ну и по мелочи еще всяких операций.\n",
    "\n",
    "## Что уже сделано\n",
    "\n",
    "Частично функционал класса `Tensor` уже реализован автором, частично дописан в первой части. Что есть в авторском коде (не поленитесь изучить его, там немного):\n",
    "\n",
    "1. Конструктор, принимающий число, реализующее интерфейс `number.Number`. Он создает тензор нулевой размерности, хранящий это число в поле `_data`;\n",
    "2. Конструктор, принимающий инстанс (объект класса) `Tensor`. Из него создается `shadow copy` (теневая копия) переданного тензора путем простого копирования ссылок на уже существующий буфер переданного тензора;\n",
    "3. Конструктор, принимающий объект, реализующий интерфейс `Iterable`. Этот итератор должнен обходить только числа с интерфейсом `numbers.Number`;\n",
    "4. Магический метод `__repr__`, который умеет красиво выводить ноль-одно-двумерные тензоры;\n",
    "5. Метод `allclose`, который сравнивает два тензора по значению;\n",
    "6. Функция `randn`, которая возвращает объект `Tensor` заданной формы, заполняя его координаты случайными значениями из нормального распределения $\\mathcal{N}(0, 1)$;\n",
    "\n",
    "Что должно быть реализовано в прошлой части:\n",
    "\n",
    "7. Свойство `shape`, которое возвращает кортеж с размеростями тензора. В нашем случае для вектора это кортеж из одного числа -- длины вектора;\n",
    "8. Функция `vector_norm`, которая вычисляет метрику Минковского для векторов;\n",
    "9. Методы `add`, `mul` и `sub` реализующие сложение тензора с числом/нульмерным тензором/другим тензором той же размерности;\n",
    "10. Методы `gt` *(greater than)* и `lt` *(less than)*, по-русски больше или меньше, которые реализуют покоординатное сравнение с числом/нульмерным тензором/другим тензором;\n",
    "11. Метод `neg`, меняющий знак у каждого элемента тензора;\n",
    "12. Магические методы `__add__`, `__mul__`, `__sub__`, перегружающие операторы `+`, `*`, `-` и действующие так же, как и методы `add`, `mul`, `sub`, например `tensor + other`, `tensor * other` и `tensor - other`;\n",
    "13. Магические методы `__radd__`, `__rmul__`, `__rsub__`, которые отличаются правоассоциативностью, в отличие от пункта выше. Выглядит они так же, но тензор стоит после оператора, например `other + tensor`, `other * tensor` и `other - tensor`.\n",
    "14. Магические методы `__gt__` и `__lt__`, перегружающие операторы `>` и `<` и действующие так же, как и методы `gt` и `lt`, например `tensor > other` или `tensor < other`;\n",
    "15. Магический метод `__neg__`, перегружающий унарный `-` и и действующий как метод `neg`;\n",
    "16. Магический метод `__len__`, возвращающий количество элементов в тензоре по первой размерности;\n",
    "17. Магический метод `__eq__`, перегружающий оператор `==` и вызывающий `allclose`;\n",
    "18. Магический метод `__iter__`, который реализует итератор по элементам тензора учитывая только первую размерность;\n",
    "19. Магический метод `__getitem__`, который возвращает `i-ю` координату вектора;\n",
    "20. Функции `add`, `mul` и `sub`, повторящие функционал соответствующих методов тензора;\n",
    "21. Функции `zeros`, `ones` и `tensor`, создающие тензор из нулей/единиц/списка чисел.\n",
    "\n",
    "Это все, что необходимо для продолжения работы. Чтобы проверить, что все работает верно, запускайте тесты следующей командой (*и в ячейке ниже*):"
   ]
  },
  {
   "cell_type": "code",
   "execution_count": 2,
   "metadata": {},
   "outputs": [
    {
     "name": "stdout",
     "output_type": "stream",
     "text": [
      "\u001b[1m============================= test session starts ==============================\u001b[0m\n",
      "platform linux -- Python 3.10.4, pytest-7.1.1, pluggy-1.0.0 -- /home/maksim/miniconda3/envs/mlngu/bin/python\n",
      "cachedir: .pytest_cache\n",
      "rootdir: /home/maksim/PycharmProjects/twinkle-master/homeworks/02-tensor\n",
      "plugins: anyio-3.5.0\n",
      "collected 20 items                                                             \u001b[0m\n",
      "\n",
      "twinkle/tests/test_vector.py::test_shape \u001b[32mPASSED\u001b[0m\u001b[32m                          [  5%]\u001b[0m\n",
      "twinkle/tests/test_vector.py::test_len \u001b[32mPASSED\u001b[0m\u001b[32m                            [ 10%]\u001b[0m\n",
      "twinkle/tests/test_vector.py::test_eq \u001b[32mPASSED\u001b[0m\u001b[32m                             [ 15%]\u001b[0m\n",
      "twinkle/tests/test_vector.py::test_getitem \u001b[32mPASSED\u001b[0m\u001b[32m                        [ 20%]\u001b[0m\n",
      "twinkle/tests/test_vector.py::test_iter \u001b[32mPASSED\u001b[0m\u001b[32m                           [ 25%]\u001b[0m\n",
      "twinkle/tests/test_vector.py::test_vector_norm_l1 \u001b[32mPASSED\u001b[0m\u001b[32m                 [ 30%]\u001b[0m\n",
      "twinkle/tests/test_vector.py::test_vector_norm_l2 \u001b[32mPASSED\u001b[0m\u001b[32m                 [ 35%]\u001b[0m\n",
      "twinkle/tests/test_vector.py::test_p_norm \u001b[32mPASSED\u001b[0m\u001b[32m                         [ 40%]\u001b[0m\n",
      "twinkle/tests/test_vector.py::test_zeros \u001b[32mPASSED\u001b[0m\u001b[32m                          [ 45%]\u001b[0m\n",
      "twinkle/tests/test_vector.py::test_ones \u001b[32mPASSED\u001b[0m\u001b[32m                           [ 50%]\u001b[0m\n",
      "twinkle/tests/test_vector.py::test_tensor \u001b[32mPASSED\u001b[0m\u001b[32m                         [ 55%]\u001b[0m\n",
      "twinkle/tests/test_vector.py::test_add_number \u001b[32mPASSED\u001b[0m\u001b[32m                     [ 60%]\u001b[0m\n",
      "twinkle/tests/test_vector.py::test_add_scalar_tensor \u001b[32mPASSED\u001b[0m\u001b[32m              [ 65%]\u001b[0m\n",
      "twinkle/tests/test_vector.py::test_add_tensor \u001b[32mPASSED\u001b[0m\u001b[32m                     [ 70%]\u001b[0m\n",
      "twinkle/tests/test_vector.py::test_add \u001b[32mPASSED\u001b[0m\u001b[32m                            [ 75%]\u001b[0m\n",
      "twinkle/tests/test_vector.py::test_sub \u001b[32mPASSED\u001b[0m\u001b[32m                            [ 80%]\u001b[0m\n",
      "twinkle/tests/test_vector.py::test_mul \u001b[32mPASSED\u001b[0m\u001b[32m                            [ 85%]\u001b[0m\n",
      "twinkle/tests/test_vector.py::test_gt \u001b[32mPASSED\u001b[0m\u001b[32m                             [ 90%]\u001b[0m\n",
      "twinkle/tests/test_vector.py::test_neg \u001b[32mPASSED\u001b[0m\u001b[32m                            [ 95%]\u001b[0m\n",
      "twinkle/tests/test_vector.py::test_dot \u001b[32mPASSED\u001b[0m\u001b[32m                            [100%]\u001b[0m\n",
      "\n",
      "\u001b[32m============================== \u001b[32m\u001b[1m20 passed\u001b[0m\u001b[32m in 0.17s\u001b[0m\u001b[32m ==============================\u001b[0m\n"
     ]
    }
   ],
   "source": [
    "!pytest twinkle/tests/test_vector.py -v"
   ]
  },
  {
   "cell_type": "markdown",
   "metadata": {},
   "source": [
    "## Что будем делать\n",
    "\n",
    "В следующей части работы предстоит написать тренировочный цикл, реализующий градиентный спуск по квадратичной функции потерь. Но это будет потом, а пока предстоит расширить функциональность тензора для работы с матричными операциями, которые нам понадобятся. Если тезисно, то реализовать нужно:\n",
    "\n",
    "1. Метод `reshape`, изменяющий форму тензора и не трогающий его внутренний буфер;\n",
    "2. Метод `flatten`, превращающий многомерный тензор в плоский одномерный тензор-вектор;\n",
    "3. Метод `__getitem__`, возвращающий i-й элементов тензора по первой размерности;\n",
    "4. Метод `mm` и магический метод `__matmul__`, перегружаеющий оператор `@`. Этот метод реализует матричное умножение;\n",
    "5. Метод `argmax`, возвращающий *индекс* максимального элемента в тензоре;\n",
    "6. Свойство `T`, транспонирующее матрицу (как текущий тензор);\n",
    "7. Функцию `eye`, создающую единичную матрицу;\n",
    "8. Функцию `to_categorical`, конвертирующую вектор значений в *one-hot encoded* представление.\n",
    "\n",
    "Для всего этого написаны тесты, которые помогут вам проверить правильность вашего кода. Что ж, теперь начнем по порядку :)"
   ]
  },
  {
   "cell_type": "markdown",
   "metadata": {},
   "source": [
    "# Многомерные тензоры (2 балла)\n",
    "\n",
    "Сейчас наш тензор имеет свойство `shape`, которое представляет собой кортеж из одного элемента -- длины одномерного тензора-вектора. Расширим тензор, добавив методы `reshape` и `flatten`, а также добавив поддержку всех математических операций для многомерного случая."
   ]
  },
  {
   "cell_type": "markdown",
   "metadata": {},
   "source": [
    "## Метод `reshape`, смена формы (0.5 балла)\n",
    "\n",
    "В предыдущей части работы были реализованы одномерные тензоры-вектор. Если вкратце -- внутри тензора есть плоский массив с элементами, отдельно лежит поле `_shape` хранящее кортеж, в первом элементе которого лежит количество элементов в тензоре. Самый простой способ реализовать многомерные тензоры -- просто подменять поле `_shape`, в котором держать какую-то многомерную форму тензора. Это и предлагается сделать в методе `reshape`. Он возвращает новый тензор с заданным шейпом (из аргумента метода `reshape`). Следует помнить, что нужно соблюдать инвариант -- количество элементов в тензоре до и после решейпа должно быть одинаковым.\n",
    "\n",
    "*Подсказка: быстро скопировать тензор можно передав его в конструктор класса `Tensor`, например как в куске кода ниже:*\n",
    "\n",
    "```\n",
    "tensor = Tensor(range(6))\n",
    "copy = Tensor(tensor)\n",
    "```\n",
    "\n",
    "Для проверки правильности своего решения запускайте тесты следующей командой (*и в ячейке ниже*):\n",
    "\n",
    "`pytest . -k test_reshape -v`"
   ]
  },
  {
   "cell_type": "code",
   "execution_count": 3,
   "metadata": {},
   "outputs": [
    {
     "name": "stdout",
     "output_type": "stream",
     "text": [
      "\u001b[1m============================= test session starts ==============================\u001b[0m\n",
      "platform linux -- Python 3.10.4, pytest-7.1.1, pluggy-1.0.0 -- /home/maksim/miniconda3/envs/mlngu/bin/python\n",
      "cachedir: .pytest_cache\n",
      "rootdir: /home/maksim/PycharmProjects/twinkle-master/homeworks/02-tensor\n",
      "plugins: anyio-3.5.0\n",
      "collected 32 items / 31 deselected / 1 selected                                \u001b[0m\n",
      "\n",
      "twinkle/tests/test_tensor.py::test_reshape \u001b[32mPASSED\u001b[0m\u001b[32m                        [100%]\u001b[0m\n",
      "\n",
      "\u001b[32m======================= \u001b[32m\u001b[1m1 passed\u001b[0m, \u001b[33m31 deselected\u001b[0m\u001b[32m in 0.12s\u001b[0m\u001b[32m =======================\u001b[0m\n"
     ]
    }
   ],
   "source": [
    "!pytest . -k test_reshape -v"
   ]
  },
  {
   "cell_type": "markdown",
   "metadata": {},
   "source": [
    "## Метод `flatten` (0.5 балл)\n",
    "\n",
    "Обратной операцией к решейпу является `flatten`. Эта операция превращает многомерный тензор в одномерный тензор-вектор. Реализуйте метод `flatten`, возвращая новый тензор и записывая в его шейп кортеж с единственным элементом -- количеством элементов в тензоре.\n",
    "\n",
    "Для проверки правильности своего решения запускайте тесты следующей командой (*и в ячейке ниже*):\n",
    "\n",
    "`pytest . -k test_flatten -v`"
   ]
  },
  {
   "cell_type": "code",
   "execution_count": 4,
   "metadata": {},
   "outputs": [
    {
     "name": "stdout",
     "output_type": "stream",
     "text": [
      "\u001b[1m============================= test session starts ==============================\u001b[0m\n",
      "platform linux -- Python 3.10.4, pytest-7.1.1, pluggy-1.0.0 -- /home/maksim/miniconda3/envs/mlngu/bin/python\n",
      "cachedir: .pytest_cache\n",
      "rootdir: /home/maksim/PycharmProjects/twinkle-master/homeworks/02-tensor\n",
      "plugins: anyio-3.5.0\n",
      "collected 32 items / 31 deselected / 1 selected                                \u001b[0m\n",
      "\n",
      "twinkle/tests/test_tensor.py::test_flatten \u001b[32mPASSED\u001b[0m\u001b[32m                        [100%]\u001b[0m\n",
      "\n",
      "\u001b[32m======================= \u001b[32m\u001b[1m1 passed\u001b[0m, \u001b[33m31 deselected\u001b[0m\u001b[32m in 0.13s\u001b[0m\u001b[32m =======================\u001b[0m\n"
     ]
    }
   ],
   "source": [
    "!pytest . -k test_flatten -v"
   ]
  },
  {
   "cell_type": "markdown",
   "metadata": {},
   "source": [
    "## Математические операции (1 балл)\n",
    "\n",
    "Ранее в тензоре были реализованы методы математических операций: `add`, `mul`, `sub`, `neg`, `gt` и `lt`. Они прекрасно работают с векторами, но этого явно недостаточно для удобной работы. Расширьте функционал этих методов так, чтобы они корректно работали проводили операции с числами/скалярными тензорами/многомерного тензорами такой же формы. Для этого нужно перешейпить тензоры с результатами операций, взяв форму из исходного тензора.\n",
    "\n",
    "*Подсказка: в авторском решении все операции реализованы через приватный метод `_binary_op`. Всего дописано четыре вызова `reshape`, хотя при желании можно было бы обойтись и одним.*\n",
    "\n",
    "Для проверки правильности своего решения запускайте тесты следующей командой (*и в ячейке ниже*):\n",
    "\n",
    "`pytest . -k test_tensor_math -v`"
   ]
  },
  {
   "cell_type": "code",
   "execution_count": 5,
   "metadata": {},
   "outputs": [
    {
     "name": "stdout",
     "output_type": "stream",
     "text": [
      "\u001b[1m============================= test session starts ==============================\u001b[0m\n",
      "platform linux -- Python 3.10.4, pytest-7.1.1, pluggy-1.0.0 -- /home/maksim/miniconda3/envs/mlngu/bin/python\n",
      "cachedir: .pytest_cache\n",
      "rootdir: /home/maksim/PycharmProjects/twinkle-master/homeworks/02-tensor\n",
      "plugins: anyio-3.5.0\n",
      "collected 32 items / 31 deselected / 1 selected                                \u001b[0m\n",
      "\n",
      "twinkle/tests/test_tensor.py::test_tensor_math \u001b[32mPASSED\u001b[0m\u001b[32m                    [100%]\u001b[0m\n",
      "\n",
      "\u001b[32m======================= \u001b[32m\u001b[1m1 passed\u001b[0m, \u001b[33m31 deselected\u001b[0m\u001b[32m in 0.68s\u001b[0m\u001b[32m =======================\u001b[0m\n"
     ]
    }
   ],
   "source": [
    "!pytest . -k test_tensor_math -v"
   ]
  },
  {
   "cell_type": "markdown",
   "metadata": {},
   "source": [
    "## Примеры использования\n",
    "\n",
    "Давайте создадим несколько тензоров и посмотрим, как пользоваться реализованным функционалом. Для этого из одного и того же тензора-вектора с шестью элементами создадим вектор-строку, матрицу 2х3, матрицу 3х2 и вектор столбец. Для каждого случая применим какую-нибудь математическую операцию."
   ]
  },
  {
   "cell_type": "code",
   "execution_count": 6,
   "metadata": {},
   "outputs": [
    {
     "name": "stdout",
     "output_type": "stream",
     "text": [
      "Tensor([1.0000, 2.0000, 3.0000, 4.0000, 5.0000, 6.0000]).reshape(1, 6) \n",
      "\n",
      "Tensor([0.0000, 2.0000, 4.0000,\n",
      "        6.0000, 8.0000, 10.0000]).reshape(2, 3) \n",
      "\n",
      "Tensor([-42.0000, -41.0000,\n",
      "        -40.0000, -39.0000,\n",
      "        -38.0000, -37.0000]).reshape(3, 2) \n",
      "\n",
      "Tensor([0.0000,\n",
      "        0.0000,\n",
      "        0.0000,\n",
      "        1.0000,\n",
      "        1.0000,\n",
      "        1.0000]).reshape(6, 1)\n"
     ]
    }
   ],
   "source": [
    "import twinkle as tw\n",
    "\n",
    "print(tw.tensor(range(6)).reshape(1, 6) + 1, '\\n')\n",
    "print(tw.tensor(range(6)).reshape(2, 3) * 2, '\\n')\n",
    "print(tw.tensor(range(6)).reshape(3, 2) - tw.tensor(42), '\\n')\n",
    "print(tw.tensor(range(6)).reshape(6, 1) > 2)"
   ]
  },
  {
   "cell_type": "markdown",
   "metadata": {},
   "source": [
    "# Матричное умножение (2 балла)\n",
    "\n",
    "Теперь вы знаете, что искуственный интеллект это просто перемножение матриц. Матрицы можно сделать с помощью решейпа, осталось только научиться эти матрицы перемножать. Для этого у тензора есть метод `mm` и магический метод `__matmul__`, перегружающий оператор `@`.\n",
    "\n",
    "## Метод `mm`, matrix multipy (1.5 балла)\n",
    "\n",
    "Реализуйте матричное умножение в методе `mm` за $O(n^3)$ от размеров перемножаемых матриц. Этот метод принимает тензор-матрицу и проверяет корректность размеров перемножаемых тензоров. Перемножение работает напрямую с внутренними буферами двух тензоров, а значит тут надо просто аккуратно поработать с индексами.\n",
    "\n",
    "Основа метода -- тройной цикл: по строкам первой матрицы, по столбцам второй матрицы и по элементам суммы скалярного произведения строки на столбец. Вам нужно вычислить индекс позиции для скалярного произведения в новом тензоре и индексы перемножаемых элементов в двух данных матрицах, `self` и `other`. Места куда нужно записать индексы отмечены многоточием `...`\n",
    "\n",
    "Для проверки правильности своего решения запускайте тесты следующей командой (*и в ячейке ниже*):\n",
    "\n",
    "`pytest . -k test_mm -v`"
   ]
  },
  {
   "cell_type": "code",
   "execution_count": 8,
   "metadata": {},
   "outputs": [
    {
     "name": "stdout",
     "output_type": "stream",
     "text": [
      "\u001b[1m============================= test session starts ==============================\u001b[0m\n",
      "platform linux -- Python 3.10.4, pytest-7.1.1, pluggy-1.0.0 -- /home/maksim/miniconda3/envs/mlngu/bin/python\n",
      "cachedir: .pytest_cache\n",
      "rootdir: /home/maksim/PycharmProjects/twinkle-master/homeworks/02-tensor\n",
      "plugins: anyio-3.5.0\n",
      "collected 32 items / 31 deselected / 1 selected                                \u001b[0m\n",
      "\n",
      "twinkle/tests/test_tensor.py::test_mm \u001b[32mPASSED\u001b[0m\u001b[32m                             [100%]\u001b[0m\n",
      "\n",
      "\u001b[32m======================= \u001b[32m\u001b[1m1 passed\u001b[0m, \u001b[33m31 deselected\u001b[0m\u001b[32m in 0.25s\u001b[0m\u001b[32m =======================\u001b[0m\n"
     ]
    }
   ],
   "source": [
    "!pytest . -k test_mm -v"
   ]
  },
  {
   "cell_type": "markdown",
   "metadata": {},
   "source": [
    "## Магический метод `__matmul__`, перегрузка оператора `@` (0.5 балла)\n",
    "\n",
    "Кому-то может показаться неудобным пользоваться методом матричного умножения там, где хочется использовать бинарный оператор наподобие `+` или `-`. Для этих целей в питоне зарезервирован оператор матричного умножения `@`. Для его перегрузки необходимо реализовать метод `__matmul__`, что и предлагается сделать.\n",
    "\n",
    "Для проверки правильности своего решения запускайте тесты следующей командой (*и в ячейке ниже*):\n",
    "\n",
    "`pytest . -k test_magic_mm -v`"
   ]
  },
  {
   "cell_type": "code",
   "execution_count": 10,
   "metadata": {},
   "outputs": [
    {
     "name": "stdout",
     "output_type": "stream",
     "text": [
      "\u001b[1m============================= test session starts ==============================\u001b[0m\n",
      "platform linux -- Python 3.10.4, pytest-7.1.1, pluggy-1.0.0 -- /home/maksim/miniconda3/envs/mlngu/bin/python\n",
      "cachedir: .pytest_cache\n",
      "rootdir: /home/maksim/PycharmProjects/twinkle-master/homeworks/02-tensor\n",
      "plugins: anyio-3.5.0\n",
      "collected 32 items / 31 deselected / 1 selected                                \u001b[0m\n",
      "\n",
      "twinkle/tests/test_tensor.py::test_magic_mm \u001b[32mPASSED\u001b[0m\u001b[32m                       [100%]\u001b[0m\n",
      "\n",
      "\u001b[32m======================= \u001b[32m\u001b[1m1 passed\u001b[0m, \u001b[33m31 deselected\u001b[0m\u001b[32m in 0.19s\u001b[0m\u001b[32m =======================\u001b[0m\n"
     ]
    }
   ],
   "source": [
    "!pytest . -k test_magic_mm -v"
   ]
  },
  {
   "cell_type": "markdown",
   "metadata": {},
   "source": [
    "## Примеры использования\n",
    "\n",
    "Тут нет ничего хитрого, нужно создать матрицы (проверьте, что это точно матрицы, в шейпе должно быть два элемента!), после чего перемножить их через `mm` или `@`. Обратите внимание, что внутри метода есть проверка: вторая размерность первой матрицы должна совпадать с первой размерностью второй матрицы."
   ]
  },
  {
   "cell_type": "code",
   "execution_count": 12,
   "metadata": {},
   "outputs": [
    {
     "name": "stdout",
     "output_type": "stream",
     "text": [
      "Tensor([3.0000, 4.0000, 5.0000,\n",
      "        9.0000, 14.0000, 19.0000,\n",
      "        15.0000, 24.0000, 33.0000]).reshape(3, 3) \n",
      "\n",
      "Tensor([10.0000, 13.0000,\n",
      "        28.0000, 40.0000]).reshape(2, 2)\n"
     ]
    }
   ],
   "source": [
    "import twinkle as tw\n",
    "\n",
    "a = tw.tensor(range(6)).reshape(3, 2)\n",
    "b = tw.tensor(range(6)).reshape(2, 3)\n",
    "print(a.mm(b), '\\n')\n",
    "\n",
    "a = tw.tensor(range(6)).reshape(2, 3)\n",
    "b = tw.tensor(range(6)).reshape(3, 2)\n",
    "print(a @ b)"
   ]
  },
  {
   "cell_type": "markdown",
   "metadata": {},
   "source": [
    "# Обновленный индексер и итератор (2 балла)\n",
    "\n",
    "Часто в машинном обучении необходимо перебирать объекты и выбирать их по индексу. Рассмотрим пример: нужно написать классификатор изображений с рукописными цифрами, каждое изображение имеет размер 28 на 28 пикселей и три канала, `RGB` (красный, зеленый и синий). Тогда одна картинка будет представлена тензором размером `(28, 28, 3)`. Если таких картинок в обучающей выборке 1000 штук, тогда весь датасет можно представить тензором `(1000, 28, 28, 3)`. Это очень удобно для работы, но нужно уметь выбирать нужную картинку из тысячи по индексу и уметь обходить все картинки по порядку. Кроме того, иногда полезно выбирать сразу несколько объектов, передавая в квадратные скобки тензор-вектор с индексами нужных элементов.\n",
    "\n",
    "## Магический метод `__getitem__`, индексер (1.5 балла)\n",
    "\n",
    "Теперь, если в `__getitem__` передается целое число, то для многомерного тензора метод должен возвращать тензор размерности на единицу меньше, например для тензора `(n, x1, x2, ...)` это будет тензор `(x1, x2, ...)`. Из примера про картинки это тензор размером `(28, 28, 3)`. Если же передать туда тензор с индексами объектов (там должны быть целые числа!), то должен вернуться тензор, в первой размерности которого будет столько значений, сколько было передано индексов. Например при передаче индексов в виде `Tensor([0, 1, 2, 3])` нужно выбрать четыре картинки и вернуть тензор размером `(4, 28, 28, 3)`. Реализуйте эту функциональность, расширив метод `__getitem__`.\n",
    "\n",
    "Для проверки правильности своего решения запускайте тесты следующей командой (*и в ячейке ниже*):\n",
    "\n",
    "`pytest . -k test_getitem -v`"
   ]
  },
  {
   "cell_type": "code",
   "execution_count": 14,
   "metadata": {},
   "outputs": [
    {
     "name": "stdout",
     "output_type": "stream",
     "text": [
      "\u001b[1m============================= test session starts ==============================\u001b[0m\n",
      "platform linux -- Python 3.10.4, pytest-7.1.1, pluggy-1.0.0 -- /home/maksim/miniconda3/envs/mlngu/bin/python\n",
      "cachedir: .pytest_cache\n",
      "rootdir: /home/maksim/PycharmProjects/twinkle-master/homeworks/02-tensor\n",
      "plugins: anyio-3.5.0\n",
      "collected 32 items / 30 deselected / 2 selected                                \u001b[0m\n",
      "\n",
      "twinkle/tests/test_tensor.py::test_getitem \u001b[32mPASSED\u001b[0m\u001b[32m                        [ 50%]\u001b[0m\n",
      "twinkle/tests/test_vector.py::test_getitem \u001b[32mPASSED\u001b[0m\u001b[32m                        [100%]\u001b[0m\n",
      "\n",
      "\u001b[32m======================= \u001b[32m\u001b[1m2 passed\u001b[0m, \u001b[33m30 deselected\u001b[0m\u001b[32m in 0.10s\u001b[0m\u001b[32m =======================\u001b[0m\n"
     ]
    }
   ],
   "source": [
    "!pytest . -k test_getitem -v"
   ]
  },
  {
   "cell_type": "code",
   "execution_count": 1,
   "metadata": {},
   "outputs": [],
   "source": [
    "import twinkle as tw\n",
    "import numpy as np\n",
    "\n",
    "data = np.array([0, 1, 2, 3, 4, 5]).reshape(3, 2)\n",
    "tensor = tw.Tensor(data.flatten()).reshape(3, 2)"
   ]
  },
  {
   "cell_type": "code",
   "execution_count": 4,
   "metadata": {},
   "outputs": [
    {
     "name": "stdout",
     "output_type": "stream",
     "text": [
      "Tensor([0.0000, 1.0000]) [0 1]\n",
      "Tensor([2.0000, 3.0000]) [2 3]\n",
      "Tensor([4.0000, 5.0000]) [4 5]\n"
     ]
    }
   ],
   "source": [
    "for x, y in zip(tensor, data):\n",
    "    print(x, y)"
   ]
  },
  {
   "cell_type": "markdown",
   "metadata": {},
   "source": [
    "## Магический метод `__iter__`, итератор (0.5 балла)\n",
    "\n",
    "Порой объекты удобно перебирать по одному, например в реализации *стохастического градиентного спуска*. Для этого можно либо воспользоваться циклом по индексам и предыдущим методом, либо реализовать *итератор* по первой размерности тензора. Проверьте, что уже написанная реализация метода `__iter__` корректно работает с новым индексером.\n",
    "\n",
    "*Подсказка: в этой секции не нужно писать нового кода, если вы его пишете, то что-то пошло не так.*\n",
    "\n",
    "Для проверки правильности своего решения запускайте тесты следующей командой (*и в ячейке ниже*):\n",
    "\n",
    "`pytest . -k test_iter -v`"
   ]
  },
  {
   "cell_type": "code",
   "execution_count": 5,
   "metadata": {},
   "outputs": [
    {
     "name": "stdout",
     "output_type": "stream",
     "text": [
      "\u001b[1m============================= test session starts ==============================\u001b[0m\n",
      "platform linux -- Python 3.10.4, pytest-7.1.1, pluggy-1.0.0 -- /home/maksim/miniconda3/envs/mlngu/bin/python\n",
      "cachedir: .pytest_cache\n",
      "rootdir: /home/maksim/PycharmProjects/twinkle-master/homeworks/02-tensor\n",
      "plugins: anyio-3.5.0\n",
      "collected 32 items / 30 deselected / 2 selected                                \u001b[0m\n",
      "\n",
      "twinkle/tests/test_tensor.py::test_iter \u001b[32mPASSED\u001b[0m\u001b[32m                           [ 50%]\u001b[0m\n",
      "twinkle/tests/test_vector.py::test_iter \u001b[32mPASSED\u001b[0m\u001b[32m                           [100%]\u001b[0m\n",
      "\n",
      "\u001b[32m======================= \u001b[32m\u001b[1m2 passed\u001b[0m, \u001b[33m30 deselected\u001b[0m\u001b[32m in 0.13s\u001b[0m\u001b[32m =======================\u001b[0m\n"
     ]
    }
   ],
   "source": [
    "!pytest . -k test_iter -v"
   ]
  },
  {
   "cell_type": "markdown",
   "metadata": {},
   "source": [
    "## Примеры использования\n",
    "\n",
    "Тут все просто. Представим, что есть пять объектов по два признака каждый.\n",
    "\n",
    "Создадим тензор из десяти элементов, зарешейпим его в матрицу с пятью строками и выберем пару этих строк. После этого в цикле `for in` обойдем все строки этой матрицы."
   ]
  },
  {
   "cell_type": "code",
   "execution_count": 6,
   "metadata": {},
   "outputs": [
    {
     "name": "stdout",
     "output_type": "stream",
     "text": [
      "test __getitem__\n",
      "Tensor([2.0000, 3.0000])\n",
      "Tensor([6.0000, 7.0000])\n",
      "\n",
      "test __iter__\n",
      "Tensor([0.0000, 1.0000])\n",
      "Tensor([2.0000, 3.0000])\n",
      "Tensor([4.0000, 5.0000])\n",
      "Tensor([6.0000, 7.0000])\n",
      "Tensor([8.0000, 9.0000])\n"
     ]
    }
   ],
   "source": [
    "import twinkle as tw\n",
    "\n",
    "foo = tw.tensor(range(10)).reshape(5, 2)\n",
    "print('test __getitem__')\n",
    "print(foo[1])\n",
    "print(foo[3])\n",
    "\n",
    "print('\\ntest __iter__')\n",
    "for item in foo:\n",
    "    print(item)"
   ]
  },
  {
   "cell_type": "markdown",
   "metadata": {},
   "source": [
    "# Разное, но полезное (4 балла)\n",
    "\n",
    "Для удобства работы в процессе обучения необходимо будет находить индекс максимального элемента, уметь быстро транспонировать матрицы, а также уметь `one-hot` кодировать признаки. Для этого у тензора необходимо реализовать метод `argmax` и свойство `T`, и еще две отдельные функции `eye` и `to_categorical`. Начнем по порядку.\n",
    "\n",
    "## Метод `argmax` (1 балл)\n",
    "\n",
    "Данный метод возвращает *индекс* максимального элемента тензора. Можно считать, что максимум будет вычисляться только для плоских тензоров-векторов, матриц-строк или матриц столбцов. Для такой реализации можно не учитывать шейп тензора, а сразу искать индекс максимального элемента во внутреннем буфере. Реализуйте эту функциональность в методе `argmax`.\n",
    "\n",
    "Для проверки правильности своего решения запускайте тесты следующей командой (*и в ячейке ниже*):\n",
    "\n",
    "`pytest . -k test_argmax -v`"
   ]
  },
  {
   "cell_type": "code",
   "execution_count": 8,
   "metadata": {},
   "outputs": [
    {
     "name": "stdout",
     "output_type": "stream",
     "text": [
      "\u001b[1m============================= test session starts ==============================\u001b[0m\n",
      "platform linux -- Python 3.10.4, pytest-7.1.1, pluggy-1.0.0 -- /home/maksim/miniconda3/envs/mlngu/bin/python\n",
      "cachedir: .pytest_cache\n",
      "rootdir: /home/maksim/PycharmProjects/twinkle-master/homeworks/02-tensor\n",
      "plugins: anyio-3.5.0\n",
      "collected 32 items / 31 deselected / 1 selected                                \u001b[0m\n",
      "\n",
      "twinkle/tests/test_tensor.py::test_argmax \u001b[32mPASSED\u001b[0m\u001b[32m                         [100%]\u001b[0m\n",
      "\n",
      "\u001b[32m======================= \u001b[32m\u001b[1m1 passed\u001b[0m, \u001b[33m31 deselected\u001b[0m\u001b[32m in 0.10s\u001b[0m\u001b[32m =======================\u001b[0m\n"
     ]
    }
   ],
   "source": [
    "!pytest . -k test_argmax -v"
   ]
  },
  {
   "cell_type": "markdown",
   "metadata": {},
   "source": [
    "## Свойство `T`, transpose (1 балл)\n",
    "\n",
    "При обучении линейных слоев часто нужно использовать операцию транспонирования. Транспонирование двумерного тензора-матрицы это смена строк и столбцов местами. В умных библиотеках математики, таких как `numpy`, `torch` и `tensorflow` операции транспонирования выполняются за $O(1)$ и бесплатны. Нам же достаточно реализовать их наивно, создав новый тензор и правильно заполнив его элементы. Реализуйте свойство `T` с данным функционалом.\n",
    "\n",
    "Для проверки правильности своего решения запускайте тесты следующей командой (*и в ячейке ниже*):\n",
    "\n",
    "`pytest . -k test_tensor_t -v`"
   ]
  },
  {
   "cell_type": "code",
   "execution_count": 11,
   "metadata": {},
   "outputs": [
    {
     "name": "stdout",
     "output_type": "stream",
     "text": [
      "\u001b[1m============================= test session starts ==============================\u001b[0m\n",
      "platform linux -- Python 3.10.4, pytest-7.1.1, pluggy-1.0.0 -- /home/maksim/miniconda3/envs/mlngu/bin/python\n",
      "cachedir: .pytest_cache\n",
      "rootdir: /home/maksim/PycharmProjects/twinkle-master/homeworks/02-tensor\n",
      "plugins: anyio-3.5.0\n",
      "collected 32 items / 31 deselected / 1 selected                                \u001b[0m\n",
      "\n",
      "twinkle/tests/test_tensor.py::test_tensor_t \u001b[32mPASSED\u001b[0m\u001b[32m                       [100%]\u001b[0m\n",
      "\n",
      "\u001b[32m======================= \u001b[32m\u001b[1m1 passed\u001b[0m, \u001b[33m31 deselected\u001b[0m\u001b[32m in 0.11s\u001b[0m\u001b[32m =======================\u001b[0m\n"
     ]
    }
   ],
   "source": [
    "!pytest . -k test_tensor_t -vv"
   ]
  },
  {
   "cell_type": "markdown",
   "metadata": {},
   "source": [
    "## Магический метод `__len__`\n",
    "\n",
    "Раньше метод `__len__` возвращал количество элементов в одномерном тензоре-векторе, теперь он должен возвращать количество элементов по первой размерности тензора. Проверьте, что это так, скорее всего оно будет работать. Если нет, то поправьте реализацию метода.\n",
    "\n",
    "Для проверки правильности своего решения запускайте тесты следующей командой (*и в ячейке ниже*):\n",
    "\n",
    "`pytest . -k test_len -v`"
   ]
  },
  {
   "cell_type": "code",
   "execution_count": 2,
   "metadata": {},
   "outputs": [
    {
     "name": "stdout",
     "output_type": "stream",
     "text": [
      "\u001b[1m============================= test session starts ==============================\u001b[0m\n",
      "platform linux -- Python 3.10.4, pytest-7.1.1, pluggy-1.0.0 -- /home/maksim/miniconda3/envs/mlngu/bin/python\n",
      "cachedir: .pytest_cache\n",
      "rootdir: /home/maksim/PycharmProjects/twinkle-master/homeworks/02-tensor\n",
      "plugins: anyio-3.5.0\n",
      "collected 32 items / 30 deselected / 2 selected                                \u001b[0m\n",
      "\n",
      "twinkle/tests/test_tensor.py::test_len \u001b[32mPASSED\u001b[0m\u001b[32m                            [ 50%]\u001b[0m\n",
      "twinkle/tests/test_vector.py::test_len \u001b[32mPASSED\u001b[0m\u001b[32m                            [100%]\u001b[0m\n",
      "\n",
      "\u001b[32m======================= \u001b[32m\u001b[1m2 passed\u001b[0m, \u001b[33m30 deselected\u001b[0m\u001b[32m in 0.10s\u001b[0m\u001b[32m =======================\u001b[0m\n"
     ]
    }
   ],
   "source": [
    "!pytest . -k test_len -v"
   ]
  },
  {
   "cell_type": "markdown",
   "metadata": {},
   "source": [
    "## Функция `eye`, единичная матрица (1 балл)\n",
    "\n",
    "Реализуйте функцию, которая возвращает квадратную единичную матрицу с заданной стороной `n`. Эта функция понадобится в следующем пункте.\n",
    "\n",
    "Для проверки правильности своего решения запускайте тесты следующей командой (*и в ячейке ниже*):\n",
    "\n",
    "`pytest . -k test_eye -v`"
   ]
  },
  {
   "cell_type": "code",
   "execution_count": 11,
   "metadata": {},
   "outputs": [
    {
     "name": "stdout",
     "output_type": "stream",
     "text": [
      "\u001b[1m============================= test session starts ==============================\u001b[0m\n",
      "platform linux -- Python 3.10.4, pytest-7.1.1, pluggy-1.0.0 -- /home/maksim/miniconda3/envs/mlngu/bin/python\n",
      "cachedir: .pytest_cache\n",
      "rootdir: /home/maksim/PycharmProjects/twinkle-master/homeworks/02-tensor\n",
      "plugins: anyio-3.5.0\n",
      "collected 32 items / 31 deselected / 1 selected                                \u001b[0m\n",
      "\n",
      "twinkle/tests/test_tensor.py::test_eye \u001b[32mPASSED\u001b[0m\u001b[32m                            [100%]\u001b[0m\n",
      "\n",
      "\u001b[32m======================= \u001b[32m\u001b[1m1 passed\u001b[0m, \u001b[33m31 deselected\u001b[0m\u001b[32m in 0.17s\u001b[0m\u001b[32m =======================\u001b[0m\n"
     ]
    }
   ],
   "source": [
    "!pytest . -k test_eye -v"
   ]
  },
  {
   "cell_type": "markdown",
   "metadata": {},
   "source": [
    "## Функция `to_categorical`, one-hot encoding (1 балл)\n",
    "\n",
    "Реализуйте функцию `to_categorical`, которая реализует `one-hot` кодирование для категориальных признаков. Функция принимает два аргумента:\n",
    "\n",
    "* `y`, тензор-вектор с индексами классов;\n",
    "* `num_classes`, количество классов.\n",
    "\n",
    "Функция работает по следующему алгоритму: сначала создается единичная матрица размером `num_classes`, а потом из нее набираются нужные строки, соответствующие индексам классов в `y`. Например у нас есть всего три класса и четыре объекта, один класса 0, два класса 1 и еще один класса 2. Тогда получается, что вектор классов `[0, 1, 1, 2]` преобразуется в `one-hot` матрицу таким образом:\n",
    "\n",
    "```\n",
    "[1, 0, 0]\n",
    "[0, 1, 0]\n",
    "[0, 1, 0]\n",
    "[0, 0, 1]\n",
    "```\n",
    "\n",
    "*Подсказка: при реализации данной функции воспользуйтесь уже готовыми функцией `eye` и индексером `__getitem__`.*\n",
    "\n",
    "Для проверки правильности своего решения запускайте тесты следующей командой (*и в ячейке ниже*):\n",
    "\n",
    "`pytest . -k test_to_categorical -v`"
   ]
  },
  {
   "cell_type": "code",
   "execution_count": 7,
   "metadata": {},
   "outputs": [
    {
     "name": "stdout",
     "output_type": "stream",
     "text": [
      "\u001b[1m============================= test session starts ==============================\u001b[0m\n",
      "platform linux -- Python 3.10.4, pytest-7.1.1, pluggy-1.0.0 -- /home/maksim/miniconda3/envs/mlngu/bin/python\n",
      "cachedir: .pytest_cache\n",
      "rootdir: /home/maksim/PycharmProjects/twinkle-master/homeworks/02-tensor\n",
      "plugins: anyio-3.5.0\n",
      "collected 32 items / 31 deselected / 1 selected                                \u001b[0m\n",
      "\n",
      "twinkle/tests/test_tensor.py::test_to_categorical \u001b[32mPASSED\u001b[0m\u001b[32m                 [100%]\u001b[0m\n",
      "\n",
      "\u001b[32m======================= \u001b[32m\u001b[1m1 passed\u001b[0m, \u001b[33m31 deselected\u001b[0m\u001b[32m in 0.10s\u001b[0m\u001b[32m =======================\u001b[0m\n"
     ]
    }
   ],
   "source": [
    "!pytest . -k test_to_categorical -v"
   ]
  },
  {
   "cell_type": "markdown",
   "metadata": {},
   "source": [
    "## Проверка всего\n",
    "\n",
    "Для успешной реализации следующей части работы нужно проверить, что весь уже написанный код работает хорошо, а значит должны пройти **все** тесты. Если что-то не проходит -- вернитесь к нужной секции и проверьте все еще раз.\n",
    "\n",
    "Запустите тесты следующей командой (*и в ячейке ниже*):\n",
    "\n",
    "`pytest . -v`"
   ]
  },
  {
   "cell_type": "code",
   "execution_count": 12,
   "metadata": {},
   "outputs": [
    {
     "name": "stdout",
     "output_type": "stream",
     "text": [
      "\u001b[1m============================= test session starts ==============================\u001b[0m\n",
      "platform linux -- Python 3.10.4, pytest-7.1.1, pluggy-1.0.0 -- /home/maksim/miniconda3/envs/mlngu/bin/python\n",
      "cachedir: .pytest_cache\n",
      "rootdir: /home/maksim/PycharmProjects/twinkle-master/homeworks/02-tensor\n",
      "plugins: anyio-3.5.0\n",
      "collected 32 items                                                             \u001b[0m\n",
      "\n",
      "twinkle/tests/test_tensor.py::test_reshape \u001b[32mPASSED\u001b[0m\u001b[32m                        [  3%]\u001b[0m\n",
      "twinkle/tests/test_tensor.py::test_flatten \u001b[32mPASSED\u001b[0m\u001b[32m                        [  6%]\u001b[0m\n",
      "twinkle/tests/test_tensor.py::test_tensor_math \u001b[32mPASSED\u001b[0m\u001b[32m                    [  9%]\u001b[0m\n",
      "twinkle/tests/test_tensor.py::test_mm \u001b[32mPASSED\u001b[0m\u001b[32m                             [ 12%]\u001b[0m\n",
      "twinkle/tests/test_tensor.py::test_magic_mm \u001b[32mPASSED\u001b[0m\u001b[32m                       [ 15%]\u001b[0m\n",
      "twinkle/tests/test_tensor.py::test_getitem \u001b[32mPASSED\u001b[0m\u001b[32m                        [ 18%]\u001b[0m\n",
      "twinkle/tests/test_tensor.py::test_iter \u001b[32mPASSED\u001b[0m\u001b[32m                           [ 21%]\u001b[0m\n",
      "twinkle/tests/test_tensor.py::test_argmax \u001b[32mPASSED\u001b[0m\u001b[32m                         [ 25%]\u001b[0m\n",
      "twinkle/tests/test_tensor.py::test_tensor_t \u001b[32mPASSED\u001b[0m\u001b[32m                       [ 28%]\u001b[0m\n",
      "twinkle/tests/test_tensor.py::test_len \u001b[32mPASSED\u001b[0m\u001b[32m                            [ 31%]\u001b[0m\n",
      "twinkle/tests/test_tensor.py::test_eye \u001b[32mPASSED\u001b[0m\u001b[32m                            [ 34%]\u001b[0m\n",
      "twinkle/tests/test_tensor.py::test_to_categorical \u001b[32mPASSED\u001b[0m\u001b[32m                 [ 37%]\u001b[0m\n",
      "twinkle/tests/test_vector.py::test_shape \u001b[32mPASSED\u001b[0m\u001b[32m                          [ 40%]\u001b[0m\n",
      "twinkle/tests/test_vector.py::test_len \u001b[32mPASSED\u001b[0m\u001b[32m                            [ 43%]\u001b[0m\n",
      "twinkle/tests/test_vector.py::test_eq \u001b[32mPASSED\u001b[0m\u001b[32m                             [ 46%]\u001b[0m\n",
      "twinkle/tests/test_vector.py::test_getitem \u001b[32mPASSED\u001b[0m\u001b[32m                        [ 50%]\u001b[0m\n",
      "twinkle/tests/test_vector.py::test_iter \u001b[32mPASSED\u001b[0m\u001b[32m                           [ 53%]\u001b[0m\n",
      "twinkle/tests/test_vector.py::test_vector_norm_l1 \u001b[32mPASSED\u001b[0m\u001b[32m                 [ 56%]\u001b[0m\n",
      "twinkle/tests/test_vector.py::test_vector_norm_l2 \u001b[32mPASSED\u001b[0m\u001b[32m                 [ 59%]\u001b[0m\n",
      "twinkle/tests/test_vector.py::test_p_norm \u001b[32mPASSED\u001b[0m\u001b[32m                         [ 62%]\u001b[0m\n",
      "twinkle/tests/test_vector.py::test_zeros \u001b[32mPASSED\u001b[0m\u001b[32m                          [ 65%]\u001b[0m\n",
      "twinkle/tests/test_vector.py::test_ones \u001b[32mPASSED\u001b[0m\u001b[32m                           [ 68%]\u001b[0m\n",
      "twinkle/tests/test_vector.py::test_tensor \u001b[32mPASSED\u001b[0m\u001b[32m                         [ 71%]\u001b[0m\n",
      "twinkle/tests/test_vector.py::test_add_number \u001b[32mPASSED\u001b[0m\u001b[32m                     [ 75%]\u001b[0m\n",
      "twinkle/tests/test_vector.py::test_add_scalar_tensor \u001b[32mPASSED\u001b[0m\u001b[32m              [ 78%]\u001b[0m\n",
      "twinkle/tests/test_vector.py::test_add_tensor \u001b[32mPASSED\u001b[0m\u001b[32m                     [ 81%]\u001b[0m\n",
      "twinkle/tests/test_vector.py::test_add \u001b[32mPASSED\u001b[0m\u001b[32m                            [ 84%]\u001b[0m\n",
      "twinkle/tests/test_vector.py::test_sub \u001b[32mPASSED\u001b[0m\u001b[32m                            [ 87%]\u001b[0m\n",
      "twinkle/tests/test_vector.py::test_mul \u001b[32mPASSED\u001b[0m\u001b[32m                            [ 90%]\u001b[0m\n",
      "twinkle/tests/test_vector.py::test_gt \u001b[32mPASSED\u001b[0m\u001b[32m                             [ 93%]\u001b[0m\n",
      "twinkle/tests/test_vector.py::test_neg \u001b[32mPASSED\u001b[0m\u001b[32m                            [ 96%]\u001b[0m\n",
      "twinkle/tests/test_vector.py::test_dot \u001b[32mPASSED\u001b[0m\u001b[32m                            [100%]\u001b[0m\n",
      "\n",
      "\u001b[32m============================== \u001b[32m\u001b[1m32 passed\u001b[0m\u001b[32m in 0.88s\u001b[0m\u001b[32m ==============================\u001b[0m\n"
     ]
    }
   ],
   "source": [
    "!pytest . -v"
   ]
  },
  {
   "cell_type": "markdown",
   "metadata": {},
   "source": [
    "# Резюме\n",
    "\n",
    "В этой части мы вплотную подобрались к написанию алгоритмов машинного обучения, создав прочный фундамент для работы с объектами линейной алгебры, такими как векторы и матрицы.\n",
    "\n",
    "Продолжение следует!"
   ]
  },
  {
   "cell_type": "code",
   "execution_count": null,
   "metadata": {},
   "outputs": [],
   "source": []
  }
 ],
 "metadata": {
  "kernelspec": {
   "display_name": "Python 3 (ipykernel)",
   "language": "python",
   "name": "python3"
  },
  "language_info": {
   "codemirror_mode": {
    "name": "ipython",
    "version": 3
   },
   "file_extension": ".py",
   "mimetype": "text/x-python",
   "name": "python",
   "nbconvert_exporter": "python",
   "pygments_lexer": "ipython3",
   "version": "3.10.4"
  }
 },
 "nbformat": 4,
 "nbformat_minor": 4
}
